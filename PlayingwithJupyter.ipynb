{
 "cells": [
  {
   "cell_type": "code",
   "execution_count": 1,
   "id": "9ccacf23-85e7-457c-801c-3913dd7286a6",
   "metadata": {},
   "outputs": [],
   "source": [
    "i=1\n",
    "j=2"
   ]
  },
  {
   "cell_type": "code",
   "execution_count": 2,
   "id": "7945da1e-b65f-4336-87be-8f19b5bd2a14",
   "metadata": {},
   "outputs": [],
   "source": [
    "k=i+j"
   ]
  },
  {
   "cell_type": "code",
   "execution_count": 3,
   "id": "a78b1cb0-10bb-4c48-b442-6ac2d972d872",
   "metadata": {},
   "outputs": [
    {
     "data": {
      "text/plain": [
       "3"
      ]
     },
     "execution_count": 3,
     "metadata": {},
     "output_type": "execute_result"
    }
   ],
   "source": [
    "k"
   ]
  },
  {
   "cell_type": "markdown",
   "id": "15d837ee-8f13-4ab1-96f1-f6b330a9b5c3",
   "metadata": {},
   "source": [
    "# I am a heading\n",
    "\n",
    "- apples\n",
    "-orasnges\n",
    "-pears\n",
    "\n",
    "![](https://b.thumbs.redditmedia.com/T2IpCtYEsIgxYrOa0pD3pUyGNXLD-2rDWdJAa9hZX5w.png)\n",
    "\n",
    "** this is bold text"
   ]
  },
  {
   "cell_type": "code",
   "execution_count": null,
   "id": "df23c09b-47df-452f-946d-f95f1b009f81",
   "metadata": {},
   "outputs": [],
   "source": []
  }
 ],
 "metadata": {
  "kernelspec": {
   "display_name": "Python 3",
   "language": "python",
   "name": "python3"
  },
  "language_info": {
   "codemirror_mode": {
    "name": "ipython",
    "version": 3
   },
   "file_extension": ".py",
   "mimetype": "text/x-python",
   "name": "python",
   "nbconvert_exporter": "python",
   "pygments_lexer": "ipython3",
   "version": "3.8.8"
  }
 },
 "nbformat": 4,
 "nbformat_minor": 5
}
